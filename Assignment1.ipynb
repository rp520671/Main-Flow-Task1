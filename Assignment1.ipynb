{
 "cells": [
  {
   "cell_type": "markdown",
   "id": "8a601985-ac2a-4af6-a7e1-c0b24c20966e",
   "metadata": {
    "panel-layout": {
     "height": 60.57500457763672,
     "visible": true,
     "width": 100
    }
   },
   "source": [
    "# A. Data Loading\n"
   ]
  },
  {
   "cell_type": "code",
   "execution_count": 1,
   "id": "d6e885f0-5863-4196-accd-b8284605c4a2",
   "metadata": {},
   "outputs": [],
   "source": [
    "# importing Pandas\n",
    "import pandas as pd"
   ]
  },
  {
   "cell_type": "code",
   "execution_count": 2,
   "id": "30e4f15e-0510-47ec-8284-00ed52feba9a",
   "metadata": {},
   "outputs": [],
   "source": [
    "# Reading csv file\n",
    "df = pd.read_csv('student-mat.csv', sep = ';' )"
   ]
  },
  {
   "cell_type": "code",
   "execution_count": 3,
   "id": "8807f6da-53a5-4dde-8dae-910d89a3b5e1",
   "metadata": {
    "panel-layout": {
     "height": 184.40000915527344,
     "visible": true,
     "width": 100
    }
   },
   "outputs": [
    {
     "data": {
      "text/html": [
       "<div>\n",
       "<style scoped>\n",
       "    .dataframe tbody tr th:only-of-type {\n",
       "        vertical-align: middle;\n",
       "    }\n",
       "\n",
       "    .dataframe tbody tr th {\n",
       "        vertical-align: top;\n",
       "    }\n",
       "\n",
       "    .dataframe thead th {\n",
       "        text-align: right;\n",
       "    }\n",
       "</style>\n",
       "<table border=\"1\" class=\"dataframe\">\n",
       "  <thead>\n",
       "    <tr style=\"text-align: right;\">\n",
       "      <th></th>\n",
       "      <th>school</th>\n",
       "      <th>sex</th>\n",
       "      <th>age</th>\n",
       "      <th>address</th>\n",
       "      <th>famsize</th>\n",
       "      <th>Pstatus</th>\n",
       "      <th>Medu</th>\n",
       "      <th>Fedu</th>\n",
       "      <th>Mjob</th>\n",
       "      <th>Fjob</th>\n",
       "      <th>...</th>\n",
       "      <th>famrel</th>\n",
       "      <th>freetime</th>\n",
       "      <th>goout</th>\n",
       "      <th>Dalc</th>\n",
       "      <th>Walc</th>\n",
       "      <th>health</th>\n",
       "      <th>absences</th>\n",
       "      <th>G1</th>\n",
       "      <th>G2</th>\n",
       "      <th>G3</th>\n",
       "    </tr>\n",
       "  </thead>\n",
       "  <tbody>\n",
       "    <tr>\n",
       "      <th>0</th>\n",
       "      <td>GP</td>\n",
       "      <td>F</td>\n",
       "      <td>18</td>\n",
       "      <td>U</td>\n",
       "      <td>GT3</td>\n",
       "      <td>A</td>\n",
       "      <td>4</td>\n",
       "      <td>4</td>\n",
       "      <td>at_home</td>\n",
       "      <td>teacher</td>\n",
       "      <td>...</td>\n",
       "      <td>4</td>\n",
       "      <td>3</td>\n",
       "      <td>4</td>\n",
       "      <td>1</td>\n",
       "      <td>1</td>\n",
       "      <td>3</td>\n",
       "      <td>6</td>\n",
       "      <td>5</td>\n",
       "      <td>6</td>\n",
       "      <td>6</td>\n",
       "    </tr>\n",
       "    <tr>\n",
       "      <th>1</th>\n",
       "      <td>GP</td>\n",
       "      <td>F</td>\n",
       "      <td>17</td>\n",
       "      <td>U</td>\n",
       "      <td>GT3</td>\n",
       "      <td>T</td>\n",
       "      <td>1</td>\n",
       "      <td>1</td>\n",
       "      <td>at_home</td>\n",
       "      <td>other</td>\n",
       "      <td>...</td>\n",
       "      <td>5</td>\n",
       "      <td>3</td>\n",
       "      <td>3</td>\n",
       "      <td>1</td>\n",
       "      <td>1</td>\n",
       "      <td>3</td>\n",
       "      <td>4</td>\n",
       "      <td>5</td>\n",
       "      <td>5</td>\n",
       "      <td>6</td>\n",
       "    </tr>\n",
       "    <tr>\n",
       "      <th>2</th>\n",
       "      <td>GP</td>\n",
       "      <td>F</td>\n",
       "      <td>15</td>\n",
       "      <td>U</td>\n",
       "      <td>LE3</td>\n",
       "      <td>T</td>\n",
       "      <td>1</td>\n",
       "      <td>1</td>\n",
       "      <td>at_home</td>\n",
       "      <td>other</td>\n",
       "      <td>...</td>\n",
       "      <td>4</td>\n",
       "      <td>3</td>\n",
       "      <td>2</td>\n",
       "      <td>2</td>\n",
       "      <td>3</td>\n",
       "      <td>3</td>\n",
       "      <td>10</td>\n",
       "      <td>7</td>\n",
       "      <td>8</td>\n",
       "      <td>10</td>\n",
       "    </tr>\n",
       "    <tr>\n",
       "      <th>3</th>\n",
       "      <td>GP</td>\n",
       "      <td>F</td>\n",
       "      <td>15</td>\n",
       "      <td>U</td>\n",
       "      <td>GT3</td>\n",
       "      <td>T</td>\n",
       "      <td>4</td>\n",
       "      <td>2</td>\n",
       "      <td>health</td>\n",
       "      <td>services</td>\n",
       "      <td>...</td>\n",
       "      <td>3</td>\n",
       "      <td>2</td>\n",
       "      <td>2</td>\n",
       "      <td>1</td>\n",
       "      <td>1</td>\n",
       "      <td>5</td>\n",
       "      <td>2</td>\n",
       "      <td>15</td>\n",
       "      <td>14</td>\n",
       "      <td>15</td>\n",
       "    </tr>\n",
       "    <tr>\n",
       "      <th>4</th>\n",
       "      <td>GP</td>\n",
       "      <td>F</td>\n",
       "      <td>16</td>\n",
       "      <td>U</td>\n",
       "      <td>GT3</td>\n",
       "      <td>T</td>\n",
       "      <td>3</td>\n",
       "      <td>3</td>\n",
       "      <td>other</td>\n",
       "      <td>other</td>\n",
       "      <td>...</td>\n",
       "      <td>4</td>\n",
       "      <td>3</td>\n",
       "      <td>2</td>\n",
       "      <td>1</td>\n",
       "      <td>2</td>\n",
       "      <td>5</td>\n",
       "      <td>4</td>\n",
       "      <td>6</td>\n",
       "      <td>10</td>\n",
       "      <td>10</td>\n",
       "    </tr>\n",
       "  </tbody>\n",
       "</table>\n",
       "<p>5 rows × 33 columns</p>\n",
       "</div>"
      ],
      "text/plain": [
       "  school sex  age address famsize Pstatus  Medu  Fedu     Mjob      Fjob  ...  \\\n",
       "0     GP   F   18       U     GT3       A     4     4  at_home   teacher  ...   \n",
       "1     GP   F   17       U     GT3       T     1     1  at_home     other  ...   \n",
       "2     GP   F   15       U     LE3       T     1     1  at_home     other  ...   \n",
       "3     GP   F   15       U     GT3       T     4     2   health  services  ...   \n",
       "4     GP   F   16       U     GT3       T     3     3    other     other  ...   \n",
       "\n",
       "  famrel freetime  goout  Dalc  Walc health absences  G1  G2  G3  \n",
       "0      4        3      4     1     1      3        6   5   6   6  \n",
       "1      5        3      3     1     1      3        4   5   5   6  \n",
       "2      4        3      2     2     3      3       10   7   8  10  \n",
       "3      3        2      2     1     1      5        2  15  14  15  \n",
       "4      4        3      2     1     2      5        4   6  10  10  \n",
       "\n",
       "[5 rows x 33 columns]"
      ]
     },
     "execution_count": 3,
     "metadata": {},
     "output_type": "execute_result"
    }
   ],
   "source": [
    "# To Display first 5 rows of Dataframe\n",
    "df.head()"
   ]
  },
  {
   "cell_type": "markdown",
   "id": "fe0615a1-d240-402c-b620-01ae2567cbd7",
   "metadata": {
    "panel-layout": {
     "height": 60.57500457763672,
     "visible": true,
     "width": 100
    }
   },
   "source": [
    "# B. Data Exploration\n"
   ]
  },
  {
   "cell_type": "code",
   "execution_count": 4,
   "id": "1f504502-e6d0-4a3e-be07-069a6a6258ed",
   "metadata": {
    "panel-layout": {
     "height": 908.4000244140625,
     "visible": true,
     "width": 100
    }
   },
   "outputs": [
    {
     "data": {
      "text/plain": [
       "school        0\n",
       "sex           0\n",
       "age           0\n",
       "address       0\n",
       "famsize       0\n",
       "Pstatus       0\n",
       "Medu          0\n",
       "Fedu          0\n",
       "Mjob          0\n",
       "Fjob          0\n",
       "reason        0\n",
       "guardian      0\n",
       "traveltime    0\n",
       "studytime     0\n",
       "failures      0\n",
       "schoolsup     0\n",
       "famsup        0\n",
       "paid          0\n",
       "activities    0\n",
       "nursery       0\n",
       "higher        0\n",
       "internet      0\n",
       "romantic      0\n",
       "famrel        0\n",
       "freetime      0\n",
       "goout         0\n",
       "Dalc          0\n",
       "Walc          0\n",
       "health        0\n",
       "absences      0\n",
       "G1            0\n",
       "G2            0\n",
       "G3            0\n",
       "dtype: int64"
      ]
     },
     "execution_count": 4,
     "metadata": {},
     "output_type": "execute_result"
    }
   ],
   "source": [
    "# Missing values\n",
    "df.isnull().sum()"
   ]
  },
  {
   "cell_type": "code",
   "execution_count": 5,
   "id": "b2eeadb1-56d2-4067-9dec-4ebeedb6d4b6",
   "metadata": {
    "panel-layout": {
     "height": 908.39990234375,
     "visible": true,
     "width": 100
    }
   },
   "outputs": [
    {
     "data": {
      "text/plain": [
       "school        object\n",
       "sex           object\n",
       "age            int64\n",
       "address       object\n",
       "famsize       object\n",
       "Pstatus       object\n",
       "Medu           int64\n",
       "Fedu           int64\n",
       "Mjob          object\n",
       "Fjob          object\n",
       "reason        object\n",
       "guardian      object\n",
       "traveltime     int64\n",
       "studytime      int64\n",
       "failures       int64\n",
       "schoolsup     object\n",
       "famsup        object\n",
       "paid          object\n",
       "activities    object\n",
       "nursery       object\n",
       "higher        object\n",
       "internet      object\n",
       "romantic      object\n",
       "famrel         int64\n",
       "freetime       int64\n",
       "goout          int64\n",
       "Dalc           int64\n",
       "Walc           int64\n",
       "health         int64\n",
       "absences       int64\n",
       "G1             int64\n",
       "G2             int64\n",
       "G3             int64\n",
       "dtype: object"
      ]
     },
     "execution_count": 5,
     "metadata": {},
     "output_type": "execute_result"
    }
   ],
   "source": [
    "# Data Types\n",
    "df.dtypes"
   ]
  },
  {
   "cell_type": "code",
   "execution_count": 6,
   "id": "5bdf7caa-d026-4b60-837e-6aacc8147d31",
   "metadata": {
    "panel-layout": {
     "height": 27.137500762939453,
     "visible": true,
     "width": 100
    }
   },
   "outputs": [
    {
     "data": {
      "text/plain": [
       "(395, 33)"
      ]
     },
     "execution_count": 6,
     "metadata": {},
     "output_type": "execute_result"
    }
   ],
   "source": [
    "# Shape of the Dataset\n",
    "df.shape"
   ]
  },
  {
   "cell_type": "markdown",
   "id": "0b63ab8f-e86d-4c19-96ac-e2c95ea89c77",
   "metadata": {
    "panel-layout": {
     "height": 60.57500457763672,
     "visible": true,
     "width": 100
    }
   },
   "source": [
    "# C. Data Cleaning"
   ]
  },
  {
   "cell_type": "code",
   "execution_count": 7,
   "id": "35dc9d4e-a2e4-4a2c-8290-30cdf52f0ee7",
   "metadata": {},
   "outputs": [],
   "source": [
    "# Drop Duplicates\n",
    "df = df.drop_duplicates()"
   ]
  },
  {
   "cell_type": "code",
   "execution_count": 8,
   "id": "e72d9ff1-fdeb-4310-b7d2-ed643834c6c2",
   "metadata": {},
   "outputs": [],
   "source": [
    "df = df.fillna(df.median(numeric_only = True))"
   ]
  },
  {
   "cell_type": "markdown",
   "id": "826e7ce4-baf0-44c8-ba6e-bcf0c2ab2499",
   "metadata": {
    "panel-layout": {
     "height": 60.57500457763672,
     "visible": true,
     "width": 100
    }
   },
   "source": [
    "# D. Data Analysis Questions\n"
   ]
  },
  {
   "cell_type": "markdown",
   "id": "5ab62ad7-ae61-479b-9ed3-28417fc9345b",
   "metadata": {
    "panel-layout": {
     "height": 60.57500457763672,
     "visible": true,
     "width": 100
    }
   },
   "source": [
    "# 1. What is the average score in math (G3)?\n"
   ]
  },
  {
   "cell_type": "code",
   "execution_count": 9,
   "id": "b8c5703f-12e7-4cc6-a44c-b470da2ee465",
   "metadata": {},
   "outputs": [],
   "source": [
    "average_g3 = df['G3'].mean()"
   ]
  },
  {
   "cell_type": "code",
   "execution_count": 10,
   "id": "e28ed83a-a3d9-4101-9af8-591f77146838",
   "metadata": {
    "panel-layout": {
     "height": 0,
     "visible": true,
     "width": 100
    }
   },
   "outputs": [
    {
     "name": "stdout",
     "output_type": "stream",
     "text": [
      "Average G3 Score: 10.42\n"
     ]
    }
   ],
   "source": [
    "print(f\"Average G3 Score: {average_g3:.2f}\")"
   ]
  },
  {
   "cell_type": "markdown",
   "id": "3fef9dd3-85de-45fc-be5b-5569445f2ccd",
   "metadata": {
    "panel-layout": {
     "height": 60.57500457763672,
     "visible": true,
     "width": 100
    }
   },
   "source": [
    "# 2. How many students scored above 15 in their final grade (G3)?"
   ]
  },
  {
   "cell_type": "code",
   "execution_count": 11,
   "id": "17e3597f-b790-401b-b61f-839d5ec7c918",
   "metadata": {},
   "outputs": [],
   "source": [
    "above_15 =  df[df['G3'] > 15] . shape[0]"
   ]
  },
  {
   "cell_type": "code",
   "execution_count": 12,
   "id": "9ffdf772-b231-4da0-8dea-12bca57cb0fe",
   "metadata": {
    "panel-layout": {
     "height": 0,
     "visible": true,
     "width": 100
    }
   },
   "outputs": [
    {
     "name": "stdout",
     "output_type": "stream",
     "text": [
      "Students with G3 > 15: 40 Students Scored above 15 in their final grade(G3)\n"
     ]
    }
   ],
   "source": [
    "print(f\"Students with G3 > 15: {above_15} Students Scored above 15 in their final grade(G3)\")"
   ]
  },
  {
   "cell_type": "markdown",
   "id": "cf35748b-f7b2-4819-a347-45aa93a2ee97",
   "metadata": {
    "panel-layout": {
     "height": 60.57500457763672,
     "visible": true,
     "width": 100
    }
   },
   "source": [
    "# 3. Is there a correlation between study time (study time) and the final grade (G3)?\n"
   ]
  },
  {
   "cell_type": "code",
   "execution_count": 13,
   "id": "5acccd3d-52ee-47a2-8b5d-6d3f3f277819",
   "metadata": {},
   "outputs": [],
   "source": [
    "correlation = df['studytime'].corr(df['G3'])"
   ]
  },
  {
   "cell_type": "code",
   "execution_count": 14,
   "id": "40404b07-9f5e-42be-b3e4-b037cf758256",
   "metadata": {
    "panel-layout": {
     "height": 0,
     "visible": true,
     "width": 100
    }
   },
   "outputs": [
    {
     "name": "stdout",
     "output_type": "stream",
     "text": [
      "Correlation between study time and G3: 0.10\n"
     ]
    }
   ],
   "source": [
    "print(f\"Correlation between study time and G3: {correlation:.2f}\")"
   ]
  },
  {
   "cell_type": "markdown",
   "id": "24a8e528-1866-4859-9e99-91fb70674ba7",
   "metadata": {
    "panel-layout": {
     "height": 60.57500457763672,
     "visible": true,
     "width": 100
    }
   },
   "source": [
    "# 4. Which gender has a higher average final grade (G3)?"
   ]
  },
  {
   "cell_type": "code",
   "execution_count": 15,
   "id": "af556408-ade3-43c1-9052-a2f2101824c3",
   "metadata": {},
   "outputs": [],
   "source": [
    "gender_avg = df.groupby('sex')['G3'].mean()"
   ]
  },
  {
   "cell_type": "code",
   "execution_count": 16,
   "id": "264f56b6-3ff8-4ab7-bdbf-ca770b404e9c",
   "metadata": {},
   "outputs": [
    {
     "name": "stdout",
     "output_type": "stream",
     "text": [
      "F: 9.97\n",
      "M: 10.91\n"
     ]
    }
   ],
   "source": [
    "for gender, avg in gender_avg.items():\n",
    "    print(f\"{gender}: {avg:.2f}\")"
   ]
  },
  {
   "cell_type": "markdown",
   "id": "30eef129-1dfc-4d3e-bc34-a86be0019a2a",
   "metadata": {
    "panel-layout": {
     "height": 51.13750076293945,
     "visible": true,
     "width": 100
    }
   },
   "source": [
    "Male Gender has the higher average final grade"
   ]
  },
  {
   "cell_type": "markdown",
   "id": "2cbe6bf1-61bc-4561-80b6-1e2162064185",
   "metadata": {
    "panel-layout": {
     "height": 60.57500457763672,
     "visible": true,
     "width": 100
    }
   },
   "source": [
    "# E. Data Visualization"
   ]
  },
  {
   "cell_type": "code",
   "execution_count": 17,
   "id": "7f6476e6-2a34-41a7-972e-24c82b3d3cff",
   "metadata": {},
   "outputs": [],
   "source": [
    "# importing matplotlib \n",
    "import matplotlib.pyplot as plt"
   ]
  },
  {
   "cell_type": "code",
   "execution_count": 18,
   "id": "113e8bfe-4dbb-4f30-8a3f-14de128498ba",
   "metadata": {},
   "outputs": [],
   "source": [
    "# importing seaborn\n",
    "import seaborn as sns"
   ]
  },
  {
   "cell_type": "code",
   "execution_count": 19,
   "id": "edf27cd2-7d04-46e4-a5c4-83059a31e975",
   "metadata": {
    "panel-layout": {
     "height": 701.0001831054688,
     "visible": true,
     "width": 100
    }
   },
   "outputs": [
    {
     "data": {
      "image/png": "[encoded data removed]",
      "text/plain": [
       "<Figure size 640x480 with 1 Axes>"
      ]
     },
     "metadata": {},
     "output_type": "display_data"
    },
    {
     "data": {
      "image/png": "[encoded data removed]",
      "text/plain": [
       "<Figure size 640x480 with 1 Axes>"
      ]
     },
     "metadata": {},
     "output_type": "display_data"
    },
    {
     "data": {
      "image/png": "[encoded data removed]",
      "text/plain": [
       "<Figure size 640x480 with 1 Axes>"
      ]
     },
     "metadata": {},
     "output_type": "display_data"
    }
   ],
   "source": [
    "# Histogram of G3\n",
    "plt.hist(df['G3'], bins=10, color='skyblue')\n",
    "plt.title('Distribution of Final Grades (G3)')\n",
    "plt.xlabel('G3 Score')\n",
    "plt.ylabel('Number of Students')\n",
    "plt.show()\n",
    "\n",
    "# Scatter plot: studytime vs G3\n",
    "sns.scatterplot(data=df, x='studytime', y='G3')\n",
    "plt.title('Study Time vs Final Grade (G3)')\n",
    "plt.show()\n",
    "\n",
    "# Bar chart: average G3 by gender\n",
    "sns.barplot(x=gender_avg.index, y=gender_avg.values)\n",
    "plt.title('Average Final Grade (G3) by Gender')\n",
    "plt.ylabel('Average G3')\n",
    "plt.xlabel('Gender')\n",
    "plt.show()"
   ]
  },
  {
   "cell_type": "code",
   "execution_count": null,
   "id": "8f8a0f9e-3d04-4e73-9fd7-9b69782e17a3",
   "metadata": {},
   "outputs": [],
   "source": []
  }
 ],
 "metadata": {
  "kernelspec": {
   "display_name": "Python 3 (ipykernel)",
   "language": "python",
   "name": "python3"
  },
  "language_info": {
   "codemirror_mode": {
    "name": "ipython",
    "version": 3
   },
   "file_extension": ".py",
   "mimetype": "text/x-python",
   "name": "python",
   "nbconvert_exporter": "python",
   "pygments_lexer": "ipython3",
   "version": "3.12.7"
  },
  "panel-cell-order": [
   "8a601985-ac2a-4af6-a7e1-c0b24c20966e",
   "8807f6da-53a5-4dde-8dae-910d89a3b5e1",
   "fe0615a1-d240-402c-b620-01ae2567cbd7",
   "1f504502-e6d0-4a3e-be07-069a6a6258ed",
   "b2eeadb1-56d2-4067-9dec-4ebeedb6d4b6",
   "5bdf7caa-d026-4b60-837e-6aacc8147d31",
   "0b63ab8f-e86d-4c19-96ac-e2c95ea89c77",
   "826e7ce4-baf0-44c8-ba6e-bcf0c2ab2499",
   "5ab62ad7-ae61-479b-9ed3-28417fc9345b",
   "e28ed83a-a3d9-4101-9af8-591f77146838",
   "3fef9dd3-85de-45fc-be5b-5569445f2ccd",
   "9ffdf772-b231-4da0-8dea-12bca57cb0fe",
   "cf35748b-f7b2-4819-a347-45aa93a2ee97",
   "40404b07-9f5e-42be-b3e4-b037cf758256",
   "24a8e528-1866-4859-9e99-91fb70674ba7",
   "30eef129-1dfc-4d3e-bc34-a86be0019a2a",
   "2cbe6bf1-61bc-4561-80b6-1e2162064185",
   "edf27cd2-7d04-46e4-a5c4-83059a31e975"
  ]
 },
 "nbformat": 4,
 "nbformat_minor": 5
}
